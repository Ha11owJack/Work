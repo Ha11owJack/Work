{
 "cells": [
  {
   "cell_type": "code",
   "execution_count": 12,
   "metadata": {},
   "outputs": [
    {
     "name": "stdout",
     "output_type": "stream",
     "text": [
      "Добавить еще в список пользователя?\n",
      "1)ДА\n",
      "else)НЕТ \n"
     ]
    }
   ],
   "source": [
    "import sqlite3\n",
    "import random \n",
    "Table1 = sqlite3.connect('server.Tablet1')\n",
    "lst = ['Ваня','Петя','Коля','Даша','Вика','Никита','Артём','Настя','Даня']\n",
    "lst1 = []\n",
    "sql = Table1.cursor()\n",
    "sql.execute('CREATE TABLE IF NOT EXISTS tb(t TEXT,name TEXT, id INT)')\n",
    "Table1.commit()\n",
    "Z = int(input(\"введите число: \"))\n",
    "A = random.choices(lst)\n",
    "StrA = \"\".join(A)\n",
    "for i in range(Z):\n",
    "    V = 'TABLE' + str(i+1)\n",
    "    A = random.choices(lst)\n",
    "    StrA = \"\".join(A)\n",
    "    sql.execute(\"INSERT INTO tb VALUES(?,?,?)\", (V,StrA,i+1))\n",
    "while True:\n",
    "    print(\"Добавить еще в список пользователя?\\n1)ДА\\nelse)НЕТ \")\n",
    "    x = int(input(\"Введите 1 или else\"))\n",
    "    if(x == 1):\n",
    "        i+=1\n",
    "        V = 'TABLE' + str(i+1)\n",
    "        A = random.choices(lst)\n",
    "        StrA = \"\".join(A)\n",
    "        sql.execute(\"INSERT INTO tb VALUES(?,?,?)\", (V,StrA,i+1))\n",
    "    else:\n",
    "        break\n",
    "for row in sql.execute(\"SELECT * FROM tb\"):\n",
    "    lst1.append(row)\n",
    "with open(\"TAB.txt\",\"w\") as F:\n",
    "    for value in lst1:\n",
    "        for StA in lst1:\n",
    "            F.write(str(StA)+'\\n')"
   ]
  },
  {
   "cell_type": "code",
   "execution_count": null,
   "metadata": {},
   "outputs": [],
   "source": []
  }
 ],
 "metadata": {
  "interpreter": {
   "hash": "916dbcbb3f70747c44a77c7bcd40155683ae19c65e1c03b4aa3499c5328201f1"
  },
  "kernelspec": {
   "display_name": "Python 3.8.10 64-bit",
   "language": "python",
   "name": "python3"
  },
  "language_info": {
   "codemirror_mode": {
    "name": "ipython",
    "version": 3
   },
   "file_extension": ".py",
   "mimetype": "text/x-python",
   "name": "python",
   "nbconvert_exporter": "python",
   "pygments_lexer": "ipython3",
   "version": "3.8.10"
  },
  "orig_nbformat": 4
 },
 "nbformat": 4,
 "nbformat_minor": 2
}
